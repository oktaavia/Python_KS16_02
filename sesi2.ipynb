{
 "cells": [
  {
   "cell_type": "code",
   "execution_count": 1,
   "metadata": {},
   "outputs": [
    {
     "name": "stdout",
     "output_type": "stream",
     "text": [
      "False\n"
     ]
    }
   ],
   "source": [
    "a = 10\n",
    "b = 5\n",
    "print(a == b)"
   ]
  },
  {
   "cell_type": "code",
   "execution_count": 2,
   "metadata": {},
   "outputs": [],
   "source": [
    "a = 10\n",
    "b = 50\n",
    "if a > b:\n",
    "    print(a)"
   ]
  },
  {
   "cell_type": "code",
   "execution_count": 21,
   "metadata": {},
   "outputs": [],
   "source": [
    "\n",
    "'''\n",
    "if <expr>/bool:\n",
    "    <statement>\n",
    "<statement>\n",
    "'''\n",
    "\n",
    "a = 10\n",
    "b = 50\n",
    "if a > b:\n",
    "    print(\"masuk sini\")\n",
    "    print(a)\n",
    "    print(\"aaaaa\")\n"
   ]
  },
  {
   "cell_type": "code",
   "execution_count": 1,
   "metadata": {},
   "outputs": [
    {
     "name": "stdout",
     "output_type": "stream",
     "text": [
      "Ini di luar percabangan\n"
     ]
    }
   ],
   "source": [
    "s = \"foos\"\n",
    "a = 10\n",
    "\n",
    "if s in \"this food is good\":\n",
    "    print(\"Cabang 1\")\n",
    "    \n",
    "    if a < 5:\n",
    "        print(\"Cabang 2\")\n",
    "        print(\"Nilai a lebih kecil dari lima\")\n",
    "        \n",
    "    print(\"Kembali ke Cabang 1\")\n",
    "    \n",
    "    if a > 7:\n",
    "        print(\"Cabang 3\")\n",
    "        print(\"NIlai a lebih besar dari tujuh\")\n",
    "    \n",
    "    print(\"Kembali lagi ke cabang 1\")\n",
    "\n",
    "print(\"Ini di luar percabangan\")\n",
    "    "
   ]
  },
  {
   "cell_type": "code",
   "execution_count": 2,
   "metadata": {},
   "outputs": [
    {
     "name": "stdout",
     "output_type": "stream",
     "text": [
      "a lebih besar dari b\n",
      "100\n"
     ]
    }
   ],
   "source": [
    "a = 100\n",
    "b = 50\n",
    "if a > b:\n",
    "    print(\"a lebih besar dari b\")\n",
    "    print(a)    \n",
    "else:\n",
    "    print(\"a lebih kecil dari b\")\n",
    "    print(b)"
   ]
  },
  {
   "cell_type": "code",
   "execution_count": 4,
   "metadata": {},
   "outputs": [
    {
     "name": "stdout",
     "output_type": "stream",
     "text": [
      "Cabang 1\n",
      "else cabang 2\n",
      "Nilai a lebih besar dari lima\n",
      "Kembali ke Cabang 1\n",
      "Cabang 3\n",
      "NIlai a lebih besar dari tujuh\n",
      "Kembali lagi ke cabang 1\n",
      "Ini di luar percabangan\n"
     ]
    }
   ],
   "source": [
    "s = \"foo\"\n",
    "a = 10\n",
    "\n",
    "if s in \"this food is good\":\n",
    "    print(\"Cabang 1\")\n",
    "    \n",
    "    if a < 5:\n",
    "        print(\"Cabang 2\")\n",
    "        print(\"Nilai a lebih kecil dari lima\")\n",
    "    else:\n",
    "        print(\"else cabang 2\")\n",
    "        print(\"Nilai a lebih besar dari lima\")\n",
    "        \n",
    "    \n",
    "    print(\"Kembali ke Cabang 1\")\n",
    "    \n",
    "    if a > 7:\n",
    "        print(\"Cabang 3\")\n",
    "        print(\"NIlai a lebih besar dari tujuh\")\n",
    "    else:\n",
    "        print(\"else cabang 3\")\n",
    "        print(\"Nilai a lebih kecil dari tujuh\")\n",
    "    \n",
    "    print(\"Kembali lagi ke cabang 1\")\n",
    "\n",
    "print(\"Ini di luar percabangan\")"
   ]
  },
  {
   "cell_type": "code",
   "execution_count": 23,
   "metadata": {},
   "outputs": [
    {
     "name": "stdout",
     "output_type": "stream",
     "text": [
      "beli majalah\n"
     ]
    }
   ],
   "source": [
    "hargaBuku = 20000\n",
    "hargaMajalah = 5000\n",
    "uang = 6000\n",
    "\n",
    "if uang > hargaBuku:\n",
    "    print(\"beli buku\")\n",
    "elif uang > hargaMajalah:\n",
    "    print(\"beli majalah\")\n",
    "else :\n",
    "    print(\"uang tidak cukup\")"
   ]
  },
  {
   "cell_type": "code",
   "execution_count": 28,
   "metadata": {},
   "outputs": [
    {
     "name": "stdout",
     "output_type": "stream",
     "text": [
      "500\n",
      "a sama dengan b\n"
     ]
    }
   ],
   "source": [
    "a = 500\n",
    "b = 500\n",
    "if a > b: print(a); print(\"a lebih besar dari b\")\n",
    "elif a == b: print(a); print(\"a sama dengan b\")\n",
    "else: print(b); print(\"a leboh kecil drai b\")"
   ]
  },
  {
   "cell_type": "code",
   "execution_count": 30,
   "metadata": {},
   "outputs": [
    {
     "name": "stdout",
     "output_type": "stream",
     "text": [
      "800\n"
     ]
    }
   ],
   "source": [
    "a = 500\n",
    "b = 800\n",
    "max = a if a > b else b\n",
    "print(max)"
   ]
  },
  {
   "cell_type": "code",
   "execution_count": 32,
   "metadata": {},
   "outputs": [
    {
     "name": "stdout",
     "output_type": "stream",
     "text": [
      "Ke warnet\n"
     ]
    }
   ],
   "source": [
    "rain = True\n",
    "print(\"Ke pantai\" if not rain else \"Ke warnet\")"
   ]
  },
  {
   "cell_type": "code",
   "execution_count": 33,
   "metadata": {},
   "outputs": [
    {
     "name": "stdout",
     "output_type": "stream",
     "text": [
      "Ke pantai\n"
     ]
    }
   ],
   "source": [
    "rain = False\n",
    "print(\"Ke pantai\" if not rain else \"Ke warnet\")"
   ]
  },
  {
   "cell_type": "code",
   "execution_count": 34,
   "metadata": {},
   "outputs": [
    {
     "name": "stdout",
     "output_type": "stream",
     "text": [
      "800\n"
     ]
    }
   ],
   "source": [
    "if a > b:\n",
    "    pass #statement kosong aja\n",
    "print(b)"
   ]
  },
  {
   "cell_type": "code",
   "execution_count": 5,
   "metadata": {},
   "outputs": [
    {
     "name": "stdout",
     "output_type": "stream",
     "text": [
      "100\n"
     ]
    }
   ],
   "source": [
    "a = 100\n",
    "b = 10\n",
    "if a > b:\n",
    "    pass    \n",
    "print(a)"
   ]
  },
  {
   "cell_type": "markdown",
   "metadata": {},
   "source": [
    "## Looping dalam python ada 2 ( While & For)"
   ]
  },
  {
   "cell_type": "code",
   "execution_count": 6,
   "metadata": {},
   "outputs": [
    {
     "data": {
      "text/plain": [
       "'\\nwhile <expr>/bool:\\n    <statement>\\n    <statement>\\n    <statement>\\n    <statement>\\n<statement>\\n\\n'"
      ]
     },
     "execution_count": 6,
     "metadata": {},
     "output_type": "execute_result"
    }
   ],
   "source": [
    "'''\n",
    "while <expr>/bool:\n",
    "    <statement>\n",
    "    <statement>\n",
    "    <statement>\n",
    "    <statement>\n",
    "<statement>\n",
    "\n",
    "'''"
   ]
  },
  {
   "cell_type": "code",
   "execution_count": 7,
   "metadata": {},
   "outputs": [
    {
     "name": "stdout",
     "output_type": "stream",
     "text": [
      "1\n",
      "2\n",
      "3\n",
      "4\n",
      "5\n",
      "6\n",
      "7\n",
      "8\n",
      "9\n",
      "10\n"
     ]
    }
   ],
   "source": [
    "# 1 + 2 + 3 + ... + 100\n",
    "\n",
    "n = 1\n",
    "un = 10\n",
    "s = 0\n",
    "\n",
    "while n <= un:\n",
    "    print(n)\n",
    "    s += n # s = s+n\n",
    "    n+=1\n",
    "\n",
    "# print(s)"
   ]
  },
  {
   "cell_type": "code",
   "execution_count": 8,
   "metadata": {},
   "outputs": [
    {
     "name": "stdout",
     "output_type": "stream",
     "text": [
      "0\n",
      "di bawah break\n",
      "1\n",
      "di bawah break\n",
      "2\n",
      "di bawah break\n",
      "3\n",
      "di bawah break\n",
      "4\n",
      "di luar loop\n"
     ]
    }
   ],
   "source": [
    "i = 0 \n",
    "while i < 10:\n",
    "    print(i)\n",
    "    if i == 4:\n",
    "        break\n",
    "    print(\"di bawah break\")\n",
    "    i += 1\n",
    "\n",
    "print(\"di luar loop\")"
   ]
  },
  {
   "cell_type": "code",
   "execution_count": 9,
   "metadata": {},
   "outputs": [
    {
     "name": "stdout",
     "output_type": "stream",
     "text": [
      "1\n",
      "di bawah continue\n",
      "2\n",
      "di bawah continue\n",
      "3\n",
      "di bawah continue\n",
      "5\n",
      "di bawah continue\n",
      "6\n",
      "di bawah continue\n",
      "7\n",
      "di bawah continue\n",
      "8\n",
      "di bawah continue\n",
      "9\n",
      "di bawah continue\n",
      "10\n",
      "di bawah continue\n",
      "di luar loop\n"
     ]
    }
   ],
   "source": [
    "i = 0 \n",
    "while i < 10:\n",
    "    i += 1\n",
    "    if i == 4:\n",
    "        continue\n",
    "    print(i)\n",
    "    print(\"di bawah continue\")\n",
    "\n",
    "print(\"di luar loop\")"
   ]
  },
  {
   "cell_type": "code",
   "execution_count": 10,
   "metadata": {},
   "outputs": [
    {
     "name": "stdout",
     "output_type": "stream",
     "text": [
      "1\n",
      "2\n",
      "3\n",
      "4\n",
      "5\n",
      "6\n",
      "7\n",
      "8\n",
      "9\n",
      "10\n",
      "loop selesai\n",
      "di luar loop\n"
     ]
    }
   ],
   "source": [
    "i = 0 \n",
    "while i < 10:\n",
    "    i += 1\n",
    "    print(i)\n",
    "else:\n",
    "    print(\"loop selesai\")\n",
    "    \n",
    "print(\"di luar loop\")"
   ]
  },
  {
   "cell_type": "code",
   "execution_count": 1,
   "metadata": {},
   "outputs": [
    {
     "name": "stdout",
     "output_type": "stream",
     "text": [
      "0\n",
      "di bawah break\n",
      "1\n",
      "di bawah break\n",
      "2\n",
      "di bawah break\n",
      "3\n",
      "di bawah break\n",
      "4\n",
      "diluar loop\n"
     ]
    }
   ],
   "source": [
    "i = 0\n",
    "while i < 10:\n",
    "    print(i)\n",
    "    if i == 4:\n",
    "        break\n",
    "    print(\"di bawah break\")\n",
    "    i += 1\n",
    "else:\n",
    "    print(\"loop selesai\")\n",
    "\n",
    "print(\"diluar loop\")\n",
    "\n"
   ]
  },
  {
   "cell_type": "code",
   "execution_count": 11,
   "metadata": {},
   "outputs": [
    {
     "name": "stdout",
     "output_type": "stream",
     "text": [
      "0\n",
      "a b c d \n",
      "1\n",
      "a b c d \n",
      "2\n",
      "a b c d \n",
      "3\n",
      "a b c d \n",
      "4\n",
      "a b c d \n",
      "5\n",
      "a b c d \n",
      "6\n",
      "a b c d \n",
      "7\n",
      "a b c d \n",
      "8\n",
      "a b c d \n",
      "9\n",
      "a b c d \n"
     ]
    }
   ],
   "source": [
    "a = ['a','b','c','d']\n",
    "n = len(a)\n",
    "\n",
    "i = 0\n",
    "\n",
    "while i < 10:\n",
    "    print(i)\n",
    "    j = 0\n",
    "    while j < n:\n",
    "        print(a[j], end=\" \")\n",
    "        j+=1\n",
    "    i+=1\n",
    "    print()"
   ]
  },
  {
   "cell_type": "code",
   "execution_count": 3,
   "metadata": {},
   "outputs": [
    {
     "name": "stdout",
     "output_type": "stream",
     "text": [
      "4\n",
      "3\n",
      "2\n",
      "1\n",
      "0\n"
     ]
    }
   ],
   "source": [
    "n = 5\n",
    "while n > 0: n-=1; print(n)"
   ]
  },
  {
   "cell_type": "code",
   "execution_count": 2,
   "metadata": {},
   "outputs": [
    {
     "name": "stdout",
     "output_type": "stream",
     "text": [
      "fa\n",
      "True\n",
      "fi\n",
      "False\n",
      "fu\n",
      "False\n"
     ]
    }
   ],
   "source": [
    "l = ['fa','fi','fu']\n",
    "i = 0\n",
    "\n",
    "for s in l:\n",
    "    print(s)\n",
    "    print('a' in s)"
   ]
  },
  {
   "cell_type": "code",
   "execution_count": 3,
   "metadata": {},
   "outputs": [
    {
     "name": "stdout",
     "output_type": "stream",
     "text": [
      "fa\n",
      "fi\n",
      "fu\n"
     ]
    }
   ],
   "source": [
    "d = { 'fa': 1, 'fi': 2, 'fu': 3}\n",
    "for k in d:\n",
    "    print(k)"
   ]
  },
  {
   "cell_type": "code",
   "execution_count": 4,
   "metadata": {},
   "outputs": [
    {
     "data": {
      "text/plain": [
       "dict_items([('fa', 1), ('fi', 2), ('fu', 3)])"
      ]
     },
     "execution_count": 4,
     "metadata": {},
     "output_type": "execute_result"
    }
   ],
   "source": [
    "d.items()\n"
   ]
  },
  {
   "cell_type": "code",
   "execution_count": 5,
   "metadata": {},
   "outputs": [
    {
     "name": "stdout",
     "output_type": "stream",
     "text": [
      "fa _ 1\n",
      "fi _ 2\n",
      "fu _ 3\n"
     ]
    }
   ],
   "source": [
    "for k, v in d.items():\n",
    "    print(k, \"_\", v)\n",
    "    "
   ]
  },
  {
   "cell_type": "code",
   "execution_count": 11,
   "metadata": {},
   "outputs": [
    {
     "name": "stdout",
     "output_type": "stream",
     "text": [
      "1 1 1\n",
      "2 1 3\n",
      "2 0 2\n"
     ]
    }
   ],
   "source": [
    "coor = [(1,1,1,),(2,1,3),(2,0,2)]\n",
    "\n",
    "for x,y,z in coor:\n",
    "    print(x, y, z)"
   ]
  },
  {
   "cell_type": "code",
   "execution_count": 14,
   "metadata": {},
   "outputs": [
    {
     "name": "stdout",
     "output_type": "stream",
     "text": [
      "10\n",
      "8\n",
      "6\n",
      "4\n",
      "2\n"
     ]
    }
   ],
   "source": [
    "for i in range (10,0,-2):\n",
    "    print(i)"
   ]
  },
  {
   "cell_type": "code",
   "execution_count": null,
   "metadata": {},
   "outputs": [],
   "source": [
    "# i = 0 \n",
    "# while i < 10:\n",
    "#     i += 1\n",
    "#     if i == 4:\n",
    "#         continue\n",
    "#     print(i)\n",
    "#     print(\"di bawah continue\")"
   ]
  },
  {
   "cell_type": "code",
   "execution_count": 17,
   "metadata": {},
   "outputs": [
    {
     "name": "stdout",
     "output_type": "stream",
     "text": [
      "0\n",
      "dibawah break\n",
      "1\n",
      "dibawah break\n",
      "2\n",
      "dibawah break\n",
      "3\n",
      "dibawah break\n",
      "5\n",
      "dibawah break\n",
      "6\n",
      "dibawah break\n",
      "7\n",
      "dibawah break\n",
      "8\n",
      "dibawah break\n",
      "9\n",
      "dibawah break\n"
     ]
    }
   ],
   "source": [
    "for i in range(0,10):\n",
    "    if i == 4:\n",
    "        continue\n",
    "    print(i)\n",
    "    print(\"dibawah break\")"
   ]
  },
  {
   "cell_type": "code",
   "execution_count": 20,
   "metadata": {},
   "outputs": [
    {
     "name": "stdout",
     "output_type": "stream",
     "text": [
      "0\n",
      "dibawah break\n",
      "1\n",
      "dibawah break\n",
      "2\n",
      "dibawah break\n",
      "3\n",
      "dibawah break\n"
     ]
    }
   ],
   "source": [
    "for i in range(0,10):\n",
    "    if i == 4:\n",
    "        break\n",
    "    print(i)\n",
    "    print(\"dibawah break\")\n",
    "else:\n",
    "    print(\"Done.\")"
   ]
  },
  {
   "cell_type": "code",
   "execution_count": 1,
   "metadata": {},
   "outputs": [
    {
     "name": "stdout",
     "output_type": "stream",
     "text": [
      "spam pam am m "
     ]
    }
   ],
   "source": [
    "message = \"spam\"\n",
    "while message != '':\n",
    "    print(message, end=' ')\n",
    "    message = message[1:]"
   ]
  },
  {
   "cell_type": "code",
   "execution_count": 2,
   "metadata": {},
   "outputs": [
    {
     "name": "stdout",
     "output_type": "stream",
     "text": [
      "0 1 2 3 4 5 6 7 8 9 10 11 12 "
     ]
    }
   ],
   "source": [
    "a = 0\n",
    "b =13\n",
    "while a < b:\n",
    "    print(a, end=' ')\n",
    "    a = a + 1"
   ]
  },
  {
   "cell_type": "code",
   "execution_count": 5,
   "metadata": {},
   "outputs": [
    {
     "name": "stdout",
     "output_type": "stream",
     "text": [
      "Hello raka => 529\n",
      "Hello raka => 529\n"
     ]
    }
   ],
   "source": [
    "while True:\n",
    "    name = input('Enter name: ')\n",
    "    if name == 'stop': break\n",
    "    age = input('Enter age: ')\n",
    "    print('Hello', name, '=>', int(age)** 2)"
   ]
  },
  {
   "cell_type": "code",
   "execution_count": 7,
   "metadata": {},
   "outputs": [
    {
     "name": "stdout",
     "output_type": "stream",
     "text": [
      "gladis\n",
      "marsya\n",
      "okta\n"
     ]
    }
   ],
   "source": [
    "for word in ['gladis', 'marsya', 'okta']:\n",
    "    print(word, end='\\n')"
   ]
  },
  {
   "cell_type": "code",
   "execution_count": 9,
   "metadata": {},
   "outputs": [
    {
     "data": {
      "text/plain": [
       "15"
      ]
     },
     "execution_count": 9,
     "metadata": {},
     "output_type": "execute_result"
    }
   ],
   "source": [
    "sum = 0\n",
    "for i in [1,2,3,4,5]:\n",
    "    sum = sum + i\n",
    "sum"
   ]
  },
  {
   "cell_type": "code",
   "execution_count": 10,
   "metadata": {},
   "outputs": [
    {
     "data": {
      "text/plain": [
       "120"
      ]
     },
     "execution_count": 10,
     "metadata": {},
     "output_type": "execute_result"
    }
   ],
   "source": [
    "prod = 1\n",
    "for item in [1,2,3,4,5]: prod *= item\n",
    "prod"
   ]
  },
  {
   "cell_type": "code",
   "execution_count": 16,
   "metadata": {},
   "outputs": [
    {
     "name": "stdout",
     "output_type": "stream",
     "text": [
      "f o x y   f o x is ...great ...animal ..."
     ]
    }
   ],
   "source": [
    "text = 'foxy fox'\n",
    "words = ('is', 'great', 'animal')\n",
    "for chara in text: print (chara, end= ' ') \n",
    "for word in words: print (word, end= ' ...')"
   ]
  },
  {
   "cell_type": "code",
   "execution_count": 18,
   "metadata": {},
   "outputs": [
    {
     "name": "stdout",
     "output_type": "stream",
     "text": [
      "1 2\n",
      "3 4\n",
      "5 6\n"
     ]
    }
   ],
   "source": [
    "coor = [(1,2), (3,4), (5,6)]\n",
    "for  (x,y) in coor: print (x,y)"
   ]
  },
  {
   "cell_type": "code",
   "execution_count": 19,
   "metadata": {},
   "outputs": [
    {
     "name": "stdout",
     "output_type": "stream",
     "text": [
      "Time to get started!\n"
     ]
    }
   ],
   "source": [
    "age = input ('Enter your age: ')\n",
    "if int(age) * 365 > 20000:\n",
    "    print('Time to retire!')\n",
    "elif int(age) * 365 > 10000:\n",
    "    print('Lots of time left!')\n",
    "else:\n",
    "    print('Time to get started!')"
   ]
  },
  {
   "cell_type": "code",
   "execution_count": 20,
   "metadata": {},
   "outputs": [
    {
     "name": "stdout",
     "output_type": "stream",
     "text": [
      "True\n"
     ]
    }
   ],
   "source": [
    "if 1:\n",
    "    print('True')"
   ]
  },
  {
   "cell_type": "code",
   "execution_count": 21,
   "metadata": {},
   "outputs": [
    {
     "name": "stdout",
     "output_type": "stream",
     "text": [
      "False\n"
     ]
    }
   ],
   "source": [
    "if not 1:\n",
    "    print('True')\n",
    "else:\n",
    "    print('False')"
   ]
  },
  {
   "cell_type": "code",
   "execution_count": 22,
   "metadata": {},
   "outputs": [
    {
     "name": "stdout",
     "output_type": "stream",
     "text": [
      "You are a jedi Master now. go learn from master Yoda!!\n"
     ]
    }
   ],
   "source": [
    "user_age = input ('Enter your age: ')\n",
    "age = int (user_age) * 365\n",
    "\n",
    "if age >= 9490:\n",
    "    print('You are a jedi Master now. go learn from master Yoda!!')\n",
    "elif age >= 8395 and age > 9490:\n",
    "    print('Becoming Jedi Knight')\n",
    "else:\n",
    "    print('You are a young Padawan')"
   ]
  },
  {
   "cell_type": "code",
   "execution_count": 23,
   "metadata": {},
   "outputs": [
    {
     "name": "stdout",
     "output_type": "stream",
     "text": [
      "(second suite)\n",
      "x is large\n"
     ]
    }
   ],
   "source": [
    "x = 120\n",
    "\n",
    "if x < 50:\n",
    "    print('(first suite)')\n",
    "    print('x is small')\n",
    "else:\n",
    "    print('(second suite)')\n",
    "    print('x is large')"
   ]
  },
  {
   "cell_type": "code",
   "execution_count": 24,
   "metadata": {},
   "outputs": [
    {
     "name": "stdout",
     "output_type": "stream",
     "text": [
      "qux\n",
      "quux\n"
     ]
    }
   ],
   "source": [
    "x = 2\n",
    "\n",
    "if x == 1: print('foo'); print('bar'); print('baz')\n",
    "elif x == 2: print('qux'); print('quux')\n",
    "else: print('corge'); print('grault')"
   ]
  },
  {
   "cell_type": "code",
   "execution_count": 25,
   "metadata": {},
   "outputs": [
    {
     "name": "stdout",
     "output_type": "stream",
     "text": [
      "corge\n",
      "grault\n"
     ]
    }
   ],
   "source": [
    "x = 3\n",
    "if x == 1: print('foo'); print('bar'); print('baz')\n",
    "elif x == 2: print('qux'); print('quux')\n",
    "else: print('corge'); print('grault')"
   ]
  },
  {
   "cell_type": "code",
   "execution_count": 26,
   "metadata": {},
   "outputs": [
    {
     "name": "stdout",
     "output_type": "stream",
     "text": [
      "corge\n",
      "grault\n"
     ]
    }
   ],
   "source": [
    "x = 3\n",
    "if x == 1:\n",
    "    print('foo')\n",
    "    print('bar')\n",
    "    print('baz')\n",
    "elif x == 2:\n",
    "    print('qux')\n",
    "    print('quux')\n",
    "else:\n",
    "    print('corge')\n",
    "    print('grault')"
   ]
  }
 ],
 "metadata": {
  "kernelspec": {
   "display_name": "base",
   "language": "python",
   "name": "python3"
  },
  "language_info": {
   "codemirror_mode": {
    "name": "ipython",
    "version": 3
   },
   "file_extension": ".py",
   "mimetype": "text/x-python",
   "name": "python",
   "nbconvert_exporter": "python",
   "pygments_lexer": "ipython3",
   "version": "3.11.4"
  },
  "orig_nbformat": 4
 },
 "nbformat": 4,
 "nbformat_minor": 2
}
